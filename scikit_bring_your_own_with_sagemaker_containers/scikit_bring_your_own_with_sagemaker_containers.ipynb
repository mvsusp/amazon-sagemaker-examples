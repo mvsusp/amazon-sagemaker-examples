{
 "cells": [
  {
   "cell_type": "markdown",
   "metadata": {},
   "source": [
    "# Building your own algorithm container"
   ]
  },
  {
   "cell_type": "markdown",
   "metadata": {},
   "source": [
    "# Part 1: Packaging and Uploading your Algorithm for use with Amazon SageMaker"
   ]
  },
  {
   "cell_type": "code",
   "execution_count": 1,
   "metadata": {},
   "outputs": [
    {
     "name": "stdout",
     "output_type": "stream",
     "text": [
      "FROM python:2\n",
      "\n",
      "RUN apt-get update && apt-get install -y --no-install-recommends \\\n",
      "    build-essential nginx git\n",
      "\n",
      "RUN pip install --upgrade \\\n",
      "    numpy \\\n",
      "    scipy \\\n",
      "    scikit-learn \\\n",
      "    matplotlib \\\n",
      "    pandas\n",
      "\n",
      "\n",
      "RUN  git clone https://github.com/mvsusp/sagemaker-containers.git -b mvs-sagemaker-containers-train-improvements && cd sagemaker-containers && pip install .\n",
      "\n",
      "COPY decision_trees /decision_trees\n",
      "\n",
      "ENV PYTHONPATH /decision_trees\n",
      "\n",
      "\n",
      "ENV SAGEMAKER_TRAINING_MODULE train\n",
      "ENV SAGEMAKER_SERVING_MODULE serve:main\n"
     ]
    }
   ],
   "source": [
    "!cat Dockerfile"
   ]
  },
  {
   "cell_type": "markdown",
   "metadata": {},
   "source": [
    "### Building the container"
   ]
  },
  {
   "cell_type": "code",
   "execution_count": 2,
   "metadata": {},
   "outputs": [
    {
     "name": "stdout",
     "output_type": "stream",
     "text": [
      "Sending build context to Docker daemon    960kB\n",
      "Step 1/8 : FROM python:2\n",
      " ---> 17c0fe4e76a5\n",
      "Step 2/8 : RUN apt-get update && apt-get install -y --no-install-recommends     build-essential nginx git\n",
      " ---> Using cache\n",
      " ---> 07ba460e18b6\n",
      "Step 3/8 : RUN pip install --upgrade     numpy     scipy     scikit-learn     matplotlib     pandas\n",
      " ---> Using cache\n",
      " ---> 0b8511851624\n",
      "Step 4/8 : RUN  git clone https://github.com/mvsusp/sagemaker-containers.git -b mvs-sagemaker-containers-train-improvements && cd sagemaker-containers && pip install .\n",
      " ---> Using cache\n",
      " ---> baae39ee7ee9\n",
      "Step 5/8 : COPY decision_trees /decision_trees\n",
      " ---> Using cache\n",
      " ---> 68a8dcfa7151\n",
      "Step 6/8 : ENV PYTHONPATH /decision_trees\n",
      " ---> Using cache\n",
      " ---> ea7700919582\n",
      "Step 7/8 : ENV SAGEMAKER_TRAINING_MODULE train\n",
      " ---> Using cache\n",
      " ---> f465d7e812bd\n",
      "Step 8/8 : ENV SAGEMAKER_SERVING_MODULE serve:main\n",
      " ---> Using cache\n",
      " ---> 09a5f26709de\n",
      "Successfully built 09a5f26709de\n",
      "Successfully tagged scikit-learn-image:latest\n"
     ]
    }
   ],
   "source": [
    "%%sh\n",
    "\n",
    "IMAGE_NAME=scikit-learn-image\n",
    "\n",
    "docker build -t ${IMAGE_NAME} ."
   ]
  },
  {
   "cell_type": "markdown",
   "metadata": {},
   "source": [
    "### Training the container locally"
   ]
  },
  {
   "cell_type": "code",
   "execution_count": 5,
   "metadata": {},
   "outputs": [
    {
     "name": "stderr",
     "output_type": "stream",
     "text": [
      "2018-08-02 16:25:42,964 sagemaker-containers INFO     No GPUs detected (normal if no gpus installed)\n",
      "2018-08-02 16:25:42,967 sagemaker-containers INFO     Invoking user script\n",
      "\n",
      "Training Env:\n",
      "\n",
      "{\n",
      "    \"network_interface_name\": \"ethwe\", \n",
      "    \"log_level\": 20, \n",
      "    \"model_dir\": \"/opt/ml/model\", \n",
      "    \"num_gpus\": 0, \n",
      "    \"channel_input_dirs\": {\n",
      "        \"training\": \"/opt/ml/input/data/training\"\n",
      "    }, \n",
      "    \"input_config_dir\": \"/opt/ml/input/config\", \n",
      "    \"num_cpus\": 2, \n",
      "    \"input_data_config\": {\n",
      "        \"training\": {}\n",
      "    }, \n",
      "    \"output_data_dir\": \"/opt/ml/output/data\", \n",
      "    \"hosts\": [\n",
      "        \"0a8f2cf64ccb\"\n",
      "    ], \n",
      "    \"output_dir\": \"/opt/ml/output\", \n",
      "    \"module_dir\": \"/opt/ml/code\", \n",
      "    \"hyperparameters\": {\n",
      "        \"max-leaf-nodes\": 10\n",
      "    }, \n",
      "    \"module_name\": \"None\", \n",
      "    \"current_host\": \"0a8f2cf64ccb\", \n",
      "    \"input_dir\": \"/opt/ml/input\", \n",
      "    \"job_name\": null, \n",
      "    \"resource_config\": {\n",
      "        \"current_host\": \"0a8f2cf64ccb\", \n",
      "        \"hosts\": [\n",
      "            \"0a8f2cf64ccb\"\n",
      "        ]\n",
      "    }, \n",
      "    \"framework_module\": \"train\"\n",
      "}\n",
      "\n",
      "Environment variables:\n",
      "\n",
      "SM_INPUT_DIR=/opt/ml/input\n",
      "SM_TRAINING_ENV={\"channel_input_dirs\":{\"training\":\"/opt/ml/input/data/training\"},\"current_host\":\"0a8f2cf64ccb\",\"framework_module\":\"train\",\"hosts\":[\"0a8f2cf64ccb\"],\"hyperparameters\":{\"max-leaf-nodes\":10},\"input_config_dir\":\"/opt/ml/input/config\",\"input_data_config\":{\"training\":{}},\"input_dir\":\"/opt/ml/input\",\"job_name\":null,\"log_level\":20,\"model_dir\":\"/opt/ml/model\",\"module_dir\":\"/opt/ml/code\",\"module_name\":\"None\",\"network_interface_name\":\"ethwe\",\"num_cpus\":2,\"num_gpus\":0,\"output_data_dir\":\"/opt/ml/output/data\",\"output_dir\":\"/opt/ml/output\",\"resource_config\":{\"current_host\":\"0a8f2cf64ccb\",\"hosts\":[\"0a8f2cf64ccb\"]}}\n",
      "SM_CHANNELS=[\"training\"]\n",
      "SM_INPUT_DATA_CONFIG={\"training\":{}}\n",
      "SM_NETWORK_INTERFACE_NAME=ethwe\n",
      "SM_USER_ARGS=[\"--max-leaf-nodes\",\"10\"]\n",
      "SM_NUM_GPUS=0\n",
      "SM_MODULE_DIR=/opt/ml/code\n",
      "SM_OUTPUT_DIR=/opt/ml/output\n",
      "SM_NUM_CPUS=2\n",
      "SM_FRAMEWORK_MODULE=train\n",
      "SM_HPS={\"max-leaf-nodes\":10}\n",
      "SM_CURRENT_HOST=0a8f2cf64ccb\n",
      "SM_MODULE_NAME=None\n",
      "SM_HOSTS=[\"0a8f2cf64ccb\"]\n",
      "SM_HP_MAX-LEAF-NODES=10\n",
      "SM_CHANNEL_TRAINING=/opt/ml/input/data/training\n",
      "SM_OUTPUT_DATA_DIR=/opt/ml/output/data\n",
      "SM_INPUT_CONFIG_DIR=/opt/ml/input/config\n",
      "SM_RESOURCE_CONFIG={\"current_host\":\"0a8f2cf64ccb\",\"hosts\":[\"0a8f2cf64ccb\"]}\n",
      "SM_LOG_LEVEL=20\n",
      "SM_MODEL_DIR=/opt/ml/model\n",
      "\n",
      "Invoking script with the following command:\n",
      "\n",
      "/usr/local/bin/python -m train --max-leaf-nodes 10\n",
      "\n",
      "\n",
      "2018-08-02 16:25:43,942 sagemaker-containers INFO     Reporting training SUCCESS\n"
     ]
    }
   ],
   "source": [
    "%%sh\n",
    "\n",
    "IMAGE_NAME=scikit-learn-image\n",
    "\n",
    "docker run -v $(pwd)/data:/opt/ml/input/data/training/ -v $(pwd)/model:/opt/ml/model/  ${IMAGE_NAME} train --max-leaf-nodes 10"
   ]
  },
  {
   "cell_type": "markdown",
   "metadata": {},
   "source": [
    "### Serving the container locally in the background"
   ]
  },
  {
   "cell_type": "code",
   "execution_count": 10,
   "metadata": {},
   "outputs": [],
   "source": [
    "%%script bash --bg\n",
    "\n",
    "IMAGE_NAME=scikit-learn-image\n",
    "\n",
    "docker run --name DEMO-scikit-byo-sagemaker-containers -p 8080:8080 -v $(pwd)/model:/opt/ml/model/  ${IMAGE_NAME} serve"
   ]
  },
  {
   "cell_type": "markdown",
   "metadata": {},
   "source": [
    "You can see the server running here"
   ]
  },
  {
   "cell_type": "code",
   "execution_count": 12,
   "metadata": {},
   "outputs": [
    {
     "name": "stdout",
     "output_type": "stream",
     "text": [
      "[2018-08-02 16:36:40 +0000] [12] [INFO] Starting gunicorn 19.9.0\n",
      "[2018-08-02 16:36:40 +0000] [12] [INFO] Listening at: unix:/tmp/gunicorn.sock (12)\n",
      "[2018-08-02 16:36:40 +0000] [12] [INFO] Using worker: gevent\n",
      "[2018-08-02 16:36:40 +0000] [18] [INFO] Booting worker with pid: 18\n",
      "[2018-08-02 16:36:40 +0000] [19] [INFO] Booting worker with pid: 19\n"
     ]
    }
   ],
   "source": [
    "!docker logs DEMO-scikit-byo-sagemaker-containers"
   ]
  },
  {
   "cell_type": "markdown",
   "metadata": {},
   "source": [
    "### You can make predictions now"
   ]
  },
  {
   "cell_type": "code",
   "execution_count": 14,
   "metadata": {},
   "outputs": [
    {
     "name": "stdout",
     "output_type": "stream",
     "text": [
      "[\"virginica\"]"
     ]
    },
    {
     "name": "stderr",
     "output_type": "stream",
     "text": [
      "  % Total    % Received % Xferd  Average Speed   Time    Time     Time  Current\n",
      "                                 Dload  Upload   Total   Spent    Left  Speed\n",
      "100    32  100    13  100    19     31     46 --:--:-- --:--:-- --:--:--    46\n"
     ]
    }
   ],
   "source": [
    "!curl -X POST http://localhost:8080/invocations -d '[[1.0,2.0,5.0,9.0]]' -H \"Content-Type: application/json\" -H \"Accept: application/json\""
   ]
  },
  {
   "cell_type": "markdown",
   "metadata": {},
   "source": [
    "### Don't forget to stop your container"
   ]
  },
  {
   "cell_type": "code",
   "execution_count": 18,
   "metadata": {},
   "outputs": [
    {
     "name": "stdout",
     "output_type": "stream",
     "text": [
      "DEMO-scikit-byo-sagemaker-containers\n",
      "DEMO-scikit-byo-sagemaker-containers\n"
     ]
    }
   ],
   "source": [
    "%%script bash\n",
    "\n",
    "docker stop DEMO-scikit-byo-sagemaker-containers\n",
    "docker rm DEMO-scikit-byo-sagemaker-containers"
   ]
  },
  {
   "cell_type": "markdown",
   "metadata": {},
   "source": [
    "### Pushing the image"
   ]
  },
  {
   "cell_type": "code",
   "execution_count": 23,
   "metadata": {},
   "outputs": [
    {
     "name": "stdout",
     "output_type": "stream",
     "text": [
      "Login Succeeded\n",
      "The push refers to repository [369233609183.dkr.ecr.us-west-2.amazonaws.com/scikit-learn-image]\n",
      "3659b7d07935: Preparing\n",
      "0d2eb7422a3d: Preparing\n",
      "687cfc3f7262: Preparing\n",
      "a0af8ca0a64c: Preparing\n",
      "8b7c9a62baba: Preparing\n",
      "66ea76482fd5: Preparing\n",
      "1defa7e52b6e: Preparing\n",
      "8eb4c3a69e64: Preparing\n",
      "1fa8778eb779: Preparing\n",
      "fa0c3f992cbd: Preparing\n",
      "ce6466f43b11: Preparing\n",
      "719d45669b35: Preparing\n",
      "3b10514a95be: Preparing\n",
      "8eb4c3a69e64: Waiting\n",
      "1fa8778eb779: Waiting\n",
      "fa0c3f992cbd: Waiting\n",
      "ce6466f43b11: Waiting\n",
      "719d45669b35: Waiting\n",
      "3b10514a95be: Waiting\n",
      "66ea76482fd5: Waiting\n",
      "1defa7e52b6e: Waiting\n",
      "a0af8ca0a64c: Layer already exists\n",
      "687cfc3f7262: Layer already exists\n",
      "3659b7d07935: Layer already exists\n",
      "0d2eb7422a3d: Layer already exists\n",
      "8b7c9a62baba: Layer already exists\n",
      "1defa7e52b6e: Layer already exists\n",
      "66ea76482fd5: Layer already exists\n",
      "fa0c3f992cbd: Layer already exists\n",
      "8eb4c3a69e64: Layer already exists\n",
      "1fa8778eb779: Layer already exists\n",
      "ce6466f43b11: Layer already exists\n",
      "719d45669b35: Layer already exists\n",
      "3b10514a95be: Layer already exists\n",
      "latest: digest: sha256:db7e58df7458a41e102537d5c4ff0c7d31c7bea797eaf6ff04ac6c21e09ec6ee size: 3067\n"
     ]
    },
    {
     "name": "stderr",
     "output_type": "stream",
     "text": [
      "WARNING! Using --password via the CLI is insecure. Use --password-stdin.\n"
     ]
    }
   ],
   "source": [
    "%%script bash\n",
    "\n",
    "IMAGE_NAME=scikit-learn-image\n",
    "\n",
    "# Get the account number associated with the current IAM credentials\n",
    "AWS_ACCOUNT=$(aws sts get-caller-identity --query Account --output text)\n",
    "\n",
    "# Get the region defined in the current configuration (default to us-west-2 if none defined)\n",
    "REGION=$(aws configure get region)\n",
    "REGION=${REGION:-us-west-2}\n",
    "\n",
    "\n",
    "ECR_IMAGE_NAME=\"${AWS_ACCOUNT}.dkr.ecr.${REGION}.amazonaws.com/${IMAGE_NAME}:latest\"\n",
    "\n",
    "# If the repository doesn't exist in ECR, create it.\n",
    "\n",
    "aws ecr describe-repositories --repository-names \"${IMAGE_NAME}\" > /dev/null 2>&1\n",
    "\n",
    "if [ $? -ne 0 ]\n",
    "then\n",
    "    aws ecr create-repository --repository-name \"${IMAGE_NAME}\" > /dev/null\n",
    "fi\n",
    "\n",
    "# Get the login command from ECR and execute it directly\n",
    "$(aws ecr get-login --region ${REGION} --no-include-email)\n",
    "\n",
    "# Build the docker image locally with the image name and then push it to ECR\n",
    "# with the full name.\n",
    "\n",
    "docker tag ${IMAGE_NAME} ${ECR_IMAGE_NAME}\n",
    "\n",
    "docker push ${ECR_IMAGE_NAME}\n"
   ]
  },
  {
   "cell_type": "markdown",
   "metadata": {},
   "source": [
    "# Part 2: Training and Hosting your Algorithm in Amazon SageMaker\n",
    "\n",
    "Once you have your container packaged, you can use it to train and serve models. Let's do that with the algorithm we made above.\n",
    "\n",
    "## Set up the environment\n",
    "\n",
    "Here we specify a bucket to use and the role that will be used for working with SageMaker."
   ]
  },
  {
   "cell_type": "code",
   "execution_count": 22,
   "metadata": {
    "collapsed": true
   },
   "outputs": [],
   "source": [
    "# S3 prefix\n",
    "prefix = 'DEMO-scikit-byo-sagemaker-containers'\n",
    "\n",
    "# Define IAM role\n",
    "import boto3\n",
    "import re\n",
    "\n",
    "import os\n",
    "import numpy as np\n",
    "import pandas as pd\n",
    "from sagemaker import get_execution_role\n",
    "\n",
    "role = 'SageMakerRole'"
   ]
  },
  {
   "cell_type": "markdown",
   "metadata": {},
   "source": [
    "## Create the session\n",
    "\n",
    "The session remembers our connection parameters to SageMaker. We'll use it to perform all of our SageMaker operations."
   ]
  },
  {
   "cell_type": "code",
   "execution_count": 20,
   "metadata": {
    "collapsed": true
   },
   "outputs": [],
   "source": [
    "import sagemaker as sage\n",
    "from time import gmtime, strftime\n",
    "\n",
    "sess = sage.Session()"
   ]
  },
  {
   "cell_type": "markdown",
   "metadata": {},
   "source": [
    "## Upload the data for training\n",
    "\n",
    "When training large models with huge amounts of data, you'll typically use big data tools, like Amazon Athena, AWS Glue, or Amazon EMR, to create your data in S3. For the purposes of this example, we're using some the classic [Iris dataset](https://en.wikipedia.org/wiki/Iris_flower_data_set), which we have included. \n",
    "\n",
    "We can use use the tools provided by the SageMaker Python SDK to upload the data to a default bucket. "
   ]
  },
  {
   "cell_type": "code",
   "execution_count": 21,
   "metadata": {},
   "outputs": [],
   "source": [
    "WORK_DIRECTORY = 'data'\n",
    "\n",
    "data_location = sess.upload_data(WORK_DIRECTORY, key_prefix=prefix)"
   ]
  },
  {
   "cell_type": "markdown",
   "metadata": {},
   "source": [
    "## Create an estimator and fit the model\n",
    "\n",
    "In order to use SageMaker to fit our algorithm, we'll create an `Estimator` that defines how to use the container to train. This includes the configuration we need to invoke SageMaker training:\n",
    "\n",
    "* The __container name__. This is constructed as in the shell commands above.\n",
    "* The __role__. As defined above.\n",
    "* The __instance count__ which is the number of machines to use for training.\n",
    "* The __instance type__ which is the type of machine to use for training.\n",
    "* The __output path__ determines where the model artifact will be written.\n",
    "* The __session__ is the SageMaker session object that we defined above.\n",
    "\n",
    "Then we use fit() on the estimator to train against the data that we uploaded above."
   ]
  },
  {
   "cell_type": "code",
   "execution_count": 24,
   "metadata": {},
   "outputs": [
    {
     "name": "stderr",
     "output_type": "stream",
     "text": [
      "INFO:sagemaker:Creating training-job with name: scikit-learn-image-2018-08-02-16-42-41-094\n"
     ]
    },
    {
     "name": "stdout",
     "output_type": "stream",
     "text": [
      "...............\n",
      "\u001b[31m2018-08-02 16:44:58,144 sagemaker-containers INFO     No GPUs detected (normal if no gpus installed)\u001b[0m\n",
      "\u001b[31m2018-08-02 16:44:58,146 sagemaker-containers INFO     Invoking user script\n",
      "\u001b[0m\n",
      "\u001b[31mTraining Env:\n",
      "\u001b[0m\n",
      "\u001b[31m{\n",
      "    \"network_interface_name\": \"ethwe\", \n",
      "    \"log_level\": 20, \n",
      "    \"model_dir\": \"/opt/ml/model\", \n",
      "    \"num_gpus\": 0, \n",
      "    \"channel_input_dirs\": {\n",
      "        \"training\": \"/opt/ml/input/data/training\"\n",
      "    }, \n",
      "    \"input_config_dir\": \"/opt/ml/input/config\", \n",
      "    \"num_cpus\": 8, \n",
      "    \"input_data_config\": {\n",
      "        \"training\": {\n",
      "            \"TrainingInputMode\": \"File\", \n",
      "            \"RecordWrapperType\": \"None\", \n",
      "            \"S3DistributionType\": \"FullyReplicated\"\n",
      "        }\n",
      "    }, \n",
      "    \"output_data_dir\": \"/opt/ml/output/data\", \n",
      "    \"hosts\": [\n",
      "        \"algo-1\"\n",
      "    ], \n",
      "    \"output_dir\": \"/opt/ml/output\", \n",
      "    \"module_dir\": \"/opt/ml/code\", \n",
      "    \"hyperparameters\": {}, \n",
      "    \"module_name\": \"None\", \n",
      "    \"current_host\": \"algo-1\", \n",
      "    \"input_dir\": \"/opt/ml/input\", \n",
      "    \"job_name\": \"scikit-learn-image-2018-08-02-16-42-41-094\", \n",
      "    \"resource_config\": {\n",
      "        \"hosts\": [\n",
      "            \"algo-1\"\n",
      "        ], \n",
      "        \"network_interface_name\": \"ethwe\", \n",
      "        \"current_host\": \"algo-1\"\n",
      "    }, \n",
      "    \"framework_module\": \"train\"\u001b[0m\n",
      "\u001b[31m}\n",
      "\u001b[0m\n",
      "\u001b[31mEnvironment variables:\n",
      "\u001b[0m\n",
      "\u001b[31mSM_INPUT_DIR=/opt/ml/input\u001b[0m\n",
      "\u001b[31mSM_CHANNEL_TRAINING=/opt/ml/input/data/training\u001b[0m\n",
      "\u001b[31mSM_TRAINING_ENV={\"channel_input_dirs\":{\"training\":\"/opt/ml/input/data/training\"},\"current_host\":\"algo-1\",\"framework_module\":\"train\",\"hosts\":[\"algo-1\"],\"hyperparameters\":{},\"input_config_dir\":\"/opt/ml/input/config\",\"input_data_config\":{\"training\":{\"RecordWrapperType\":\"None\",\"S3DistributionType\":\"FullyReplicated\",\"TrainingInputMode\":\"File\"}},\"input_dir\":\"/opt/ml/input\",\"job_name\":\"scikit-learn-image-2018-08-02-16-42-41-094\",\"log_level\":20,\"model_dir\":\"/opt/ml/model\",\"module_dir\":\"/opt/ml/code\",\"module_name\":\"None\",\"network_interface_name\":\"ethwe\",\"num_cpus\":8,\"num_gpus\":0,\"output_data_dir\":\"/opt/ml/output/data\",\"output_dir\":\"/opt/ml/output\",\"resource_config\":{\"current_host\":\"algo-1\",\"hosts\":[\"algo-1\"],\"network_interface_name\":\"ethwe\"}}\u001b[0m\n",
      "\u001b[31mSM_CHANNELS=[\"training\"]\u001b[0m\n",
      "\u001b[31mSM_OUTPUT_DIR=/opt/ml/output\u001b[0m\n",
      "\u001b[31mSM_NETWORK_INTERFACE_NAME=ethwe\u001b[0m\n",
      "\u001b[31mSM_FRAMEWORK_MODULE=train\u001b[0m\n",
      "\u001b[31mSM_HPS={}\u001b[0m\n",
      "\u001b[31mSM_OUTPUT_DATA_DIR=/opt/ml/output/data\u001b[0m\n",
      "\u001b[31mSM_RESOURCE_CONFIG={\"current_host\":\"algo-1\",\"hosts\":[\"algo-1\"],\"network_interface_name\":\"ethwe\"}\u001b[0m\n",
      "\u001b[31mSM_HOSTS=[\"algo-1\"]\u001b[0m\n",
      "\u001b[31mSM_MODULE_DIR=/opt/ml/code\u001b[0m\n",
      "\u001b[31mSM_INPUT_CONFIG_DIR=/opt/ml/input/config\u001b[0m\n",
      "\u001b[31mSM_USER_ARGS=[]\u001b[0m\n",
      "\u001b[31mSM_INPUT_DATA_CONFIG={\"training\":{\"RecordWrapperType\":\"None\",\"S3DistributionType\":\"FullyReplicated\",\"TrainingInputMode\":\"File\"}}\u001b[0m\n",
      "\u001b[31mSM_LOG_LEVEL=20\u001b[0m\n",
      "\u001b[31mSM_CURRENT_HOST=algo-1\u001b[0m\n",
      "\u001b[31mSM_MODEL_DIR=/opt/ml/model\u001b[0m\n",
      "\u001b[31mSM_NUM_CPUS=8\u001b[0m\n",
      "\u001b[31mSM_NUM_GPUS=0\u001b[0m\n",
      "\u001b[31mSM_MODULE_NAME=None\n",
      "\u001b[0m\n",
      "\u001b[31mInvoking script with the following command:\n",
      "\u001b[0m\n",
      "\u001b[31m/usr/local/bin/python -m train\n",
      "\n",
      "\u001b[0m\n",
      "\u001b[31m2018-08-02 16:44:59,494 sagemaker-containers INFO     Reporting training SUCCESS\u001b[0m\n",
      "===== Job Complete =====\n",
      "Billable seconds: 57\n"
     ]
    }
   ],
   "source": [
    "account = sess.boto_session.client('sts').get_caller_identity()['Account']\n",
    "region = sess.boto_session.region_name\n",
    "image = '{}.dkr.ecr.{}.amazonaws.com/scikit-learn-image:latest'.format(account, region)\n",
    "\n",
    "tree = sage.estimator.Estimator(image,\n",
    "                       role, 1, 'ml.c4.2xlarge',\n",
    "                       output_path=\"s3://{}/output\".format(sess.default_bucket()),\n",
    "                       sagemaker_session=sess)\n",
    "\n",
    "tree.fit(data_location)"
   ]
  },
  {
   "cell_type": "markdown",
   "metadata": {},
   "source": [
    "## Deploy the model\n",
    "\n",
    "Deploying the model to SageMaker hosting just requires a `deploy` call on the fitted model. This call takes an instance count, instance type, and optionally serializer and deserializer functions. These are used when the resulting predictor is created on the endpoint."
   ]
  },
  {
   "cell_type": "code",
   "execution_count": 31,
   "metadata": {},
   "outputs": [
    {
     "name": "stderr",
     "output_type": "stream",
     "text": [
      "INFO:sagemaker:Creating model with name: scikit-learn-image-2018-08-02-17-00-08-769\n",
      "INFO:sagemaker:Creating endpoint with name scikit-learn-image-2018-08-02-16-42-41-094\n"
     ]
    },
    {
     "name": "stdout",
     "output_type": "stream",
     "text": [
      "--------------------------------------------------!"
     ]
    }
   ],
   "source": [
    "from sagemaker.predictor import json_deserializer, json_serializer\n",
    "predictor = tree.deploy(1, 'ml.m4.xlarge', serializer=json_serializer, deserializer=json_deserializer)"
   ]
  },
  {
   "cell_type": "markdown",
   "metadata": {},
   "source": [
    "## Choose some data and use it for a prediction\n",
    "\n",
    "In order to do some predictions, we'll extract some of the data we used for training and do predictions against it. This is, of course, bad statistical practice, but a good way to see how the mechanism works."
   ]
  },
  {
   "cell_type": "code",
   "execution_count": 26,
   "metadata": {
    "collapsed": true
   },
   "outputs": [],
   "source": [
    "shape=pd.read_csv(\"data/iris.csv\", header=None)\n",
    "\n",
    "import itertools\n",
    "\n",
    "a = [50*i for i in range(3)]\n",
    "b = [40+i for i in range(10)]\n",
    "indices = [i+j for i,j in itertools.product(a,b)]\n",
    "\n",
    "test_data=shape.iloc[indices[:-1]]\n",
    "test_X=test_data.iloc[:,1:]\n",
    "test_y=test_data.iloc[:,0]"
   ]
  },
  {
   "cell_type": "markdown",
   "metadata": {},
   "source": [
    "Prediction is as easy as calling predict with the predictor we got back from deploy and the data we want to do predictions with. The serializers take care of doing the data conversions for us."
   ]
  },
  {
   "cell_type": "code",
   "execution_count": 32,
   "metadata": {},
   "outputs": [
    {
     "name": "stdout",
     "output_type": "stream",
     "text": [
      "['setosa', 'setosa', 'setosa', 'setosa', 'setosa', 'setosa', 'setosa', 'setosa', 'setosa', 'setosa', 'versicolor', 'versicolor', 'versicolor', 'versicolor', 'versicolor', 'versicolor', 'versicolor', 'versicolor', 'versicolor', 'versicolor', 'virginica', 'virginica', 'virginica', 'virginica', 'virginica', 'virginica', 'virginica', 'virginica', 'virginica']\n"
     ]
    }
   ],
   "source": [
    "predictor.content_type = 'application/json'\n",
    "predictor.accept = 'application/json'\n",
    "\n",
    "print(predictor.predict(test_X.values))"
   ]
  },
  {
   "cell_type": "markdown",
   "metadata": {},
   "source": [
    "## Optional cleanup\n",
    "\n",
    "When you're done with the endpoint, you'll want to clean it up."
   ]
  },
  {
   "cell_type": "code",
   "execution_count": 33,
   "metadata": {},
   "outputs": [
    {
     "name": "stderr",
     "output_type": "stream",
     "text": [
      "INFO:sagemaker:Deleting endpoint with name: scikit-learn-image-2018-08-02-16-42-41-094\n"
     ]
    }
   ],
   "source": [
    "sess.delete_endpoint(predictor.endpoint)"
   ]
  }
 ],
 "metadata": {
  "kernelspec": {
   "display_name": "Python 3",
   "language": "python",
   "name": "python3"
  },
  "language_info": {
   "codemirror_mode": {
    "name": "ipython",
    "version": 3
   },
   "file_extension": ".py",
   "mimetype": "text/x-python",
   "name": "python",
   "nbconvert_exporter": "python",
   "pygments_lexer": "ipython3",
   "version": "3.5.5"
  }
 },
 "nbformat": 4,
 "nbformat_minor": 2
}
